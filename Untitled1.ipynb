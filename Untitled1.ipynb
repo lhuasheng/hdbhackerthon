{
 "cells": [
  {
   "cell_type": "code",
   "execution_count": 1,
   "metadata": {},
   "outputs": [
    {
     "name": "stderr",
     "output_type": "stream",
     "text": [
      "Using TensorFlow backend.\n"
     ]
    }
   ],
   "source": [
    "import numpy as np # linear algebra\n",
    "import pandas as pd # data processing, CSV file I/O (e.g. pd.read_csv)\n",
    "import keras\n",
    "from __future__ import print_function\n",
    "from functools import reduce\n",
    "import re\n",
    "import tarfile\n",
    "import numpy as np\n",
    "import guidedlda\n",
    "\n",
    "X = guidedlda.datasets.load_data(guidedlda.datasets.NYT)"
   ]
  },
  {
   "cell_type": "code",
   "execution_count": 13,
   "metadata": {},
   "outputs": [
    {
     "name": "stdout",
     "output_type": "stream",
     "text": [
      "(8447, 3012)\n"
     ]
    }
   ],
   "source": [
    "print(X.shape)"
   ]
  },
  {
   "cell_type": "code",
   "execution_count": 34,
   "metadata": {
    "collapsed": true
   },
   "outputs": [],
   "source": [
    "vocab = guidedlda.datasets.load_vocab(guidedlda.datasets.NYT)"
   ]
  },
  {
   "cell_type": "code",
   "execution_count": 35,
   "metadata": {},
   "outputs": [
    {
     "name": "stdout",
     "output_type": "stream",
     "text": [
      "('company', 'percent', 'state', 'play', 'official', 'game', 'man', 'city', 'plan', 'school', 'group', 'states', 'american', 'program', 'point', 'government', 'home', 'case', 'tell', 'woman', 'child', 'life', 'report', 'place', 'country', 'second', 'start', 'issue', 'team', 'large', 'public', 'thing', 'member', 'president', 'market', 'yesterday', 'business', 'move', 'change', 'pay', 'win', 'add', 'ask', 'old', 'family', 'world', 'big', 'price', 'law', 'money', 'put', 'turn', 'open', 'season', 'name', 'director', 'offer', 'ago', 'student', 'problem', 'talk', 'keep', 'hold', 'force', 'number', 'night', 'job', 'police', 'little', 'executive', 'write', 'small', 'live', 'close', 'system', 'political', 'early', 'great', 'service', 'sell', 'question', 'office', 'house', 'expect', 'leader', 'line', 'cost', 'feel', 'charge', 'late', 'lose', 'cut', 'support', 'increase', 'hour', 'half', 'provide', 'rate', 'fall', 'lot', 'drug', 'book', 'area', 'player', 'deal', 'continue', 'bring', 'far', 'remain', 'allow', 'low', 'base', 'buy', 'share', 'head', 'young', 'return', 'major', 'receive', 'believe', 'party', 'building', 'black', 'record', 'third', 'power', 'court', 'recent', 'create', 'free', 'room', 'sale', 'campaign', 'accord', 'tax', 'face', 'meet', 'decision', 'music', 'study', 'stock', 'effort', 'result', 'sign', 'serve', 'news', 'mean', 'appear', 'term', 'build', 'vote', 'spend', 'rise', 'war', 'minute', 'car', 'grow', 'chief', 'away', 'hope', 'raise', 'art', 'lawyer', 'information', 'control', 'hand', 'center', 'order', 'side', 'officer', 'industry', 'mrs', 'top', 'television', 'board', 'consider', 'real', 'friend', 'interest', 'local', 'agency', 'kind', 'bill', 'hard', 'film', 'pass', 'send', 'really', 'military', 'care', 'attack', 'concern', 'history', 'policy', 'follow', 'hit', 'nation', 'past', 'meeting', 'note', 'project', 'different', 'health', 'fact', 'break', 'bad', 'level', 'rule', 'white', 'require', 'view', 'death', 'store', 'course', 'agree', 'seek', 'election', 'important', 'father', 'site', 'community', 'national', 'happen', 'reach', 'fund', 'chairman', 'worker', 'list', 'score', 'stand', 'stop', 'drive', 'announce', 'water', 'involve', 'bank', 'security', 'street', 'idea', 'speak', 'fight', 'age', 'strong', 'trade', 'figure', 'decide', 'recently', 'suggest', 'produce', 'form', 'town', 'oil', 'mother', 'republican', 'cause', 'senior', 'full', 'budget', 'kill', 'interview', 'let', 'carry', 'design', 'race', 'reason', 'computer', 'clear', 'hear', 'fire', 'test', 'food', 'release', 'word', 'final', 'short', 'performance', 'present', 'love', 'union', 'general', 'agreement', 'step', 'class', 'loss', 'economic', 'visit', 'action', 'event', 'matter', 'series', 'editor', 'contract', 'victory', 'manager', 'parent', 'foot', 'role', 'cover', 'future', 'field', 'die', 'firm', 'goal', 'dollar', 'act', 'sound', 'position', 'private', 'benefit', 'describe', 'current', 'owner', 'average', 'judge', 'coach', 'walk', 'decline', 'develop', 'space', 'candidate', 'financial', 'movie', 'light', 'single', 'son', 'organization', 'story', 'outside', 'product', 'special', 'resident', 'able', 'artist', 'effect', 'process', 'learn', 'statement', 'americans', 'front', 'administration', 'ground', 'experience', 'likely', 'decade', 'two', 'quarter', 'spokesman', 'sense', 'fail', 'summer', 'plant', 'district', 'doctor', 'proposal', 'possible', 'mile', 'drop', 'strike', 'college', 'expert', 'research', 'piece', 'development', 'value', 'production', 'draw', 'career', 'available', 'chance', 'reduce', 'letter', 'sit', 'complete', 'practice', 'analyst', 'watch', 'perform', 'committee', 'employee', 'taxis', 'wife', 'person', 'represent', 'democratic', 'demand', 'period', 'gain', 'wait', 'economy', 'patient', 'income', 'vice', 'join', 'operation', 'style', 'round', 'air', 'focus', 'account', 'stay', 'heart', 'despite', 'standard', 'customer', 'trial', 'crime', 'read', 'choose', 'investment', 'education', 'measure', 'defense', 'easy', 'schedule', 'floor', 'department', 'finish', 'character', 'travel', 'operate', 'soon', 'evidence', 'pressure', 'human', 'moment', 'bond', 'sure', 'technology', 'condition', 'limit', 'international', 'total', 'authority', 'graduate', 'unit', 'explain', 'land', 'direct', 'star', 'risk', 'three', 'range', 'mind', 'file', 'neighborhood', 'stage', 'staff', 'couple', 'prepare', 'social', 'fear', 'station', 'morning', 'paper', 'body', 'commission', 'personal', 'comment', 'shoot', 'daughter', 'approach', 'amount', 'image', 'guy', 'propose', 'foreign', 'restaurant', 'replaced', 'federal', 'hospital', 'claim', 'train', 'argue', 'dance', 'club', 'voice', 'wear', 'legal', 'press', 'accept', 'choice', 'abortion', 'page', 'girl', 'century', 'article', 'ball', 'suit', 'answer', 'japanese', 'appeal', 'conference', 'throw', 'debate', 'ticket', 'self', 'investigation', 'difficult', 'door', 'credit', 'investor', 'tonight', 'eye', 'poor', 'apartment', 'pick', 'enter', 'teacher', 'property', 'commercial', 'beat', 'medium', 'subject', 'challenge', 'post', 'audience', 'consumer', 'estimate', 'bear', 'fourth', 'agent', 'rest', 'telephone', 'theater', 'message', 'main', 'double', 'sport', 'voter', 'attention', 'earlier', 'review', 'newspaper', 'middle', 'arm', 'network', 'fine', 'understand', 'weekend', 'medical', 'block', 'road', 'park', 'movement', 'manage', 'conduct', 'nations', 'peace', 'discuss', 'opportunity', 'associate', 'shot', 'remove', 'partner', 'thousand', 'simply', 'catch', 'attempt', 'arrest', 'picture', 'push', 'serious', 'writer', 'reporter', 'degree', 'democrats', 'arrive', 'weapon', 'model', 'approve', 'growth', 'capital', 'longer', 'relationship', 'feature', 'promise', 'improve', 'scene', 'museum', 'fill', 'spring', 'wall', 'save', 'boy', 'professor', 'retire', 'region', 'dns', 'situation', 'quickly', 'trip', 'battle', 'common', 'insurance', 'song', 'actually', 'size', 'color', 'crowd', 'red', 'determine', 'aid', 'damage', 'worry', 'match', 'address', 'establish', 'hotel', 'intend', 'check', 'date', 'french', 'refuse', 'card', 'bit', 'profit', 'track', 'lack', 'refer', 'title', 'dozen', 'seat', 'version', 'popular', 'protect', 'quality', 'replace', 'inside', 'material', 'prison', 'victim', 'church', 'prove', 'individual', 'fan', 'phone', 'attend', 'annual', 'critic', 'evening', 'remember', 'baseball', 'recall', 'league', 'majority', 'activity', 'management', 'slow', 'husband', 'collection', 'advertising', 'conservative', 'kid', 'struggle', 'mark', 'request', 'original', 'bar', 'deep', 'magazine', 'wide', 'publish', 'grant', 'addition', 'fly', 'wrong', 'science', 'potential', 'european', 'identify', 'tour', 'detail', 'success', 'search', 'violence', 'hearing', 'earn', 'accuse', 'deny', 'loan', 'acknowledge', 'difference', 'left', 'fast', 'troop', 'division', 'nuclear', 'true', 'soviet', 'response', 'housing', 'document', 'finance', 'table', 'producer', 'author', 'huge', 'blue', 'spending', 'wine', 'machine', 'county', 'panel', 'suffer', 'quite', 'spot', 'avoid', 'reflect', 'corporate', 'tomorrow', 'express', 'respond', 'speech', 'previous', 'british', 'maintain', 'pull', 'safety', 'labor', 'compare', 'revenue', 'pound', 'prosecutor', 'display', 'oppose', 'apply', 'handle', 'worth', 'estate', 'population', 'tough', 'culture', 'shop', 'trouble', 'certainly', 'tie', 'assistant', 'ready', 'soldier', 'green', 'israeli', 'eat', 'threat', 'energy', 'painting', 'sort', 'favor', 'society', 'afternoon', 'forward', 'criminal', 'training', 'hire', 'surprise', 'marry', 'western', 'section', 'traditional', 'treat', 'occur', 'exhibition', 'civil', 'dinner', 'supply', 'video', 'central', 'type', 'lie', 'teach', 'count', 'language', 'fee', 'radio', 'independent', 'link', 'cast', 'datum', 'politics', 'yankees', 'yield', 'source', 'jury', 'band', 'iraqi', 'opposition', 'treatment', 'cash', 'ahead', 'maker', 'cup', 'yard', 'insist', 'driver', 'option', 'aide', 'complex', 'bid', 'prevent', 'sex', 'dress', 'professional', 'indicate', 'ability', 'window', 'presidential', 'construction', 'brother', 'guard', 'trading', 'introduce', 'hot', 'modern', 'institution', 'anti', 'speed', 'chinese', 'negotiation', 'photograph', 'deliver', 'exchange', 'abuse', 'university', 'novel', 'plane', 'heavy', 'wonder', 'expand', 'shift', 'key', 'strategy', 'hundred', 'murder', 'million', 'encourage', 'palestinian', 'elect', 'republicans', 'clearly', 'scientist', 'debt', 'gun', 'rock', 'ride', 'purchase', 'significant', 'opponent', 'sponsor', 'entire', 'advance', 'feeling', 'influence', 'north', 'fashion', 'delay', 'governor', 'opening', 'client', 'ban', 'particular', 'additional', 'cite', 'protest', 'cross', 'south', 'eventually', 'internet', 'box', 'screen', 'acquire', 'four', 'dead', 'witness', 'horse', 'package', 'regular', 'dispute', 'fresh', 'tree', 'threaten', 'generation', 'west', 'traffic', 'met', 'relation', 'primary', 'inch', 'equipment', 'emerge', 'bus', 'airline', 'clean', 'affect', 'gas', 'religious', 'cold', 'rich', 'pitch', 'musical', 'shape', 'happy', 'realize', 'possibility', 'simple', 'separate', 'sentence', 'successful', 'ruling', 'reject', 'net', 'contain', 'concert', 'legislation', 'survey', 'crisis', 'apparently', 'discussion', 'german', 'warn', 'taste', 'rent', 'sing', 'touch', 'promote', 'powerful', 'opinion', 'largely', 'impact', 'complain', 'access', 'natural', 'payment', 'settle', 'disease', 'border', 'willing', 'regard', 'inning', 'declare', 'daily', 'suspect', 'jewish', 'cancer', 'permit', 'marriage', 'doubt', 'discover', 'sexual', 'immediately', 'competition', 'broad', 'mix', 'session', 'poll', 'straight', 'injury', 'twice', 'glass', 'commit', 'lawsuit', 'flight', 'pretty', 'attract', 'advocate', 'advantage', 'dream', 'vehicle', 'adviser', 'defeat', 'direction', 'enjoy', 'complaint', 'jump', 'exist', 'edge', 'cent', 'spread', 'designer', 'paint', 'negotiate', 'actor', 'affair', 'based', 'roll', 'extra', 'blood', 'drink', 'corner', 'structure', 'safe', 'recognize', 'minister', 'five', 'italian', 'failure', 'football', 'adult', 'favorite', 'wind', 'urge', 'industrial', 'settlement', 'neighbor', 'necessary', 'marketing', 'conclude', 'square', 'highly', 'principal', 'tend', 'reform', 'supporter', 'appearance', 'heat', 'politician', 'secret', 'nature', 'leadership', 'minority', 'draft', 'admission', 'east', 'animal', 'defend', 'intelligence', 'master', 'camp', 'cable', 'award', 'admit', 'target', 'mention', 'instance', 'specific', 'compete', 'grand', 'winner', 'approval', 'truck', 'contend', 'hurt', 'object', 'basis', 'flow', 'fuel', 'cook', 'hole', 'jazz', 'penalty', 'pro', 'eliminate', 'ship', 'basic', 'kitchen', 'camera', 'domestic', 'extend', 'aug', 'effective', 'championship', 'responsibility', 'grade', 'terrorist', 'critical', 'researcher', 'rating', 'salary', 'feb', 'giants', 'conflict', 'stretch', 'gallery', 'depend', 'illegal', 'baby', 'pepper', 'scale', 'achieve', 'device', 'fish', 'nearby', 'unusual', 'presence', 'stake', 'hang', 'dismiss', 'storey', 'mayor', 'asset', 'bomb', 'interested', 'representative', 'investigator', 'gold', 'golf', 'broadcast', 'pop', 'impose', 'mission', 'welcome', 'purpose', 'theme', 'fair', 'winter', 'mail', 'confidence', 'criticize', 'deficit', 'investigate', 'succeed', 'software', 'gay', 'chicken', 'village', 'champion', 'listen', 'incident', 'justice', 'copy', 'welfare', 'mistake', 'organize', 'playoff', 'respect', 'regulation', 'saving', 'status', 'variety', 'argument', 'balance', 'visitor', 'basketball', 'colleague', 'expense', 'divide', 'russian', 'assume', 'dark', 'notice', 'rally', 'gift', 'predict', 'emergency', 'factor', 'connection', 'english', 'capture', 'familiar', 'dealer', 'environmental', 'cultural', 'guarantee', 'mass', 'memory', 'fare', 'slightly', 'suppose', 'everybody', 'manufacturer', 'surround', 'contact', 'directly', 'army', 'alternative', 'aim', 'association', 'duty', 'dry', 'chain', 'wave', 'gather', 'progress', 'surface', 'invite', 'veteran', 'island', 'citizen', 'criticism', 'blame', 'dog', 'teen', 'testimony', 'farm', 'bridge', 'weather', 'fifth', 'warm', 'collect', 'rare', 'wish', 'easily', 'immigrant', 'blow', 'rush', 'increasingly', 'rival', 'stick', 'earning', 'host', 'expensive', 'signal', 'element', 'relatively', 'pursue', 'perfect', 'elderly', 'adopt', 'wage', 'item', 'reveal', 'studio', 'positive', 'exercise', 'conversation', 'quick', 'tournament', 'garden', 'democrat', 'virtually', 'liberal', 'user', 'consultant', 'reaction', 'regional', 'economist', 'album', 'sauce', 'era', 'fit', 'label', 'beginning', 'solution', 'leg', 'environment', 'wood', 'widely', 'disclose', 'physical', 'missile', 'factory', 'contribute', 'lay', 'restore', 'secretary', 'relief', 'demonstrate', 'holiday', 'tradition', 'shareholder', 'lower', 'brief', 'destroy', 'combine', 'attorney', 'quarterback', 'route', 'trust', 'guilty', 'accident', 'singer', 'index', 'appoint', 'congressional', 'ceremony', 'responsible', 'sister', 'pattern', 'developer', 'strength', 'testify', 'confirm', 'print', 'procedure', 'contrast', 'aside', 'global', 'exactly', 'retail', 'downtown', 'bottom', 'minor', 'offense', 'ally', 'african', 'broker', 'lunch', 'rank', 'publisher', 'giant', 'passenger', 'protection', 'contribution', 'flower', 'sharp', 'wild', 'task', 'jail', 'counsel', 'due', 'reality', 'transfer', 'collapse', 'recommend', 'fun', 'opera', 'vision', 'commitment', 'convict', 'nice', 'initial', 'guest', 'obtain', 'stuff', 'auction', 'violate', 'youth', 'soft', 'cell', 'dancer', 'six', 'forget', 'pilot', 'weight', 'wing', 'pair', 'plus', 'thank', 'honor', 'buyer', 'percentage', 'civilian', 'dish', 'bag', 'wedding', 'define', 'smile', 'shopping', 'brand', 'suddenly', 'behavior', 'reserve', 'airport', 'resign', 'root', 'fully', 'chemical', 'urban', 'engineer', 'salt', 'southern', 'zone', 'reading', 'discount', 'living', 'resolve', 'campus', 'assault', 'volume', 'reader', 'relative', 'length', 'financing', 'founder', 'coverage', 'remark', 'fiscal', 'method', 'hair', 'distance', 'male', 'recover', 'classic', 'spirit', 'commissioner', 'headquarters', 'spokeswoman', 'female', 'announcement', 'abandon', 'fat', 'communication', 'attitude', 'relate', 'guide', 'arab', 'ignore', 'inflation', 'defensive', 'resource', 'lift', 'prime', 'fellow', 'enforcement', 'tape', 'examine', 'error', 'smoke', 'clothes', 'monitor', 'shirt', 'assert', 'tone', 'import', 'contemporary', 'generate', 'jet', 'landscape', 'invest', 'thought', 'analysis', 'prospect', 'freedom', 'ring', 'pitcher', 'palestinians', 'compromise', 'reduction', 'farmer', 'wound', 'skill', 'defendant', 'trend', 'pain', 'boat', 'crash', 'column', 'indian', 'famous', 'crack', 'bed', 'offensive', 'rape', 'senator', 'shooting', 'banking', 'chair', 'hardly', 'repair', 'offering', 'library', 'reservation', 'technique', 'silver', 'reputation', 'viewer', 'egg', 'composer', 'quiet', 'engage', 'tenant', 'competitive', 'trail', 'subway', 'persuade', 'theory', 'metal', 'chop', 'ice', 'truth', 'deputy', 'bright', 'electronic', 'assist', 'code', 'desire', 'select', 'impossible', 'selection', 'flag', 'tear', 'rely', 'volunteer', 'lawmaker', 'location', 'usual', 'northern', 'danger', 'prisoner', 'carrier', 'previously', 'merger', 'row', 'diplomat', 'improvement', 'parking', 'active', 'journalist', 'belong', 'preserve', 'editorial', 'historic', 'beach', 'connect', 'hall', 'quote', 'killing', 'license', 'tight', 'pace', 'furniture', 'provision', 'venture', 'shelter', 'steal', 'mortgage', 'academic', 'beautiful', 'pose', 'touchdown', 'ultimately', 'aware', 'meat', 'cool', 'accompany', 'interesting', 'withdraw', 'install', 'odd', 'combination', 'kick', 'democracy', 'shut', 'online', 'employer', 'dominate', 'services', 'command', 'emphasize', 'requirement', 'participate', 'praise', 'arrange', 'sea', 'branch', 'lock', 'joint', 'digital', 'receiver', 'territory', 'channel', 'please', 'homeless', 'hispanic', 'prompt', 'expansion', 'shake', 'historical', 'stir', 'disaster', 'experiment', 'convention', 'musician', 'architect', 'coalition', 'plate', 'application', 'cheap', 'entirely', 'celebrate', 'native', 'feed', 'slip', 'sculpture', 'tiny', 'recording', 'dangerous', 'comedy', 'pack', 'imagine', 'steel', 'export', 'fix', 'equal', 'heavily', 'partly', 'laugh', 'bottle', 'minimum', 'lobby', 'technical', 'ease', 'normal', 'chip', 'facility', 'completely', 'advice', 'storm', 'crucial', 'legislator', 'garage', 'switch', 'corporation', 'celebration', 'constitutional', 'vast', 'cheese', 'mount', 'proceed', 'river', 'bedroom', 'background', 'ethnic', 'repeat', 'retailer', 'rebel', 'anger', 'narrow', 'comfortable', 'portrait', 'violation', 'longtime', 'meal', 'content', 'pool', 'appropriate', 'securities', 'bat', 'pre', 'sixth', 'frequently', 'lesson', 'waste', 'emotional', 'plastic', 'participant', 'sharply', 'swing', 'currently', 'importance', 'acre', 'aggressive', 'healthy', 'explore', 'possibly', 'immediate', 'qualify', 'retirement', 'stress', 'athlete', 'upper', 'typical', 'rebound', 'bombing', 'engine', 'hero', 'obviously', 'gang', 'racial', 'lease', 'gap', 'finding', 'repeatedly', 'inquiry', 'crew', 'escape', 'negative', 'acquisition', 'distribute', 'split', 'seize', 'talent', 'newly', 'retain', 'formal', 'publicly', 'knee', 'moral', 'sleep', 'rain', 'closely', 'sweep', 'reference', 'pledge', 'allegation', 'assistance', 'tale', 'remind', 'circle', 'vegetable', 'regulator', 'fraud', 'flat', 'secure', 'foundation', 'artistic', 'difficulty', 'refugee', 'prominent', 'understanding', 'suspend', 'testing', 'apart', 'noon', 'correct', 'judgment', 'plot', 'faith', 'unable', 'severe', 'stem', 'arrangement', 'shoulder', 'upset', 'entry', 'climb', 'oversee', 'sweet', 'surgery', 'canadian', 'assure', 'inspire', 'sugar', 'planning', 'cream', 'guess', 'warning', 'map', 'accusation', 'seriously', 'household', 'sight', 'legislative', 'counter', 'prefer', 'mental', 'violent', 'afford', 'highway', 'knowledge', 'recommendation', 'starter', 'scientific', 'notion', 'enormous', 'speaker', 'accounting', 'delivery', 'sanction', 'found', 'principle', 'council', 'strip', 'scandal', 'episode', 'tomato', 'creative', 'suicide', 'streak', 'fruit', 'contest', 'belief', 'medicine', 'encounter', 'slice', 'substantial', 'nail', 'sue', 'transportation', 'thin', 'expectation', 'breast', 'commander', 'limited', 'reply', 'passage', 'priest', 'cap', 'obvious', 'bride', 'originally', 'entertainment', 'creation', 'vacation', 'hate', 'tool', 'convince', 'govern', 'detective', 'specialist', 'wire', 'aspect', 'modest', 'hide', 'roughly', 'busy', 'ill', 'maintenance', 'rural', 'juice', 'yorkers', 'aircraft', 'butter', 'potato', 'weak', 'piano', 'demonstration', 'devote', 'rarely', 'injure', 'core', 'drama', 'employ', 'function', 'path', 'barely', 'symbol', 'deeply', 'merchant', 'empty', 'flavor', 'menu', 'bird', 'essentially', 'knock', 'clock', 'brain', 'dramatic', 'shortly', 'manner', 'nonprofit', 'seed', 'initiative', 'holding', 'portion', 'roof', 'alliance', 'prosecution', 'related', 'administrator', 'frame', 'string', 'capacity', 'flee', 'submit', 'extraordinary', 'instrument', 'slowly', 'tourist', 'manufacturing', 'banker', 'consecutive', 'festival', 'concept', 'cry', 'subsidiary', 'operator', 'junior', 'currency', 'resume', 'restriction', 'known', 'moderate', 'orange', 'solve', 'resort', 'transform', 'permanent', 'bread', 'called', 'recruit', 'appointment', 'drawing', 'voting', 'mine', 'physician', 'temporary', 'burn', 'divorce', 'reverse', 'brown', 'winning', 'pocket', 'coffee', 'conclusion', 'typically', 'truly', 'competitor', 'plead', 'earth', 'educational', 'march', 'internal', 'gray', 'plenty', 'stone', 'gasoline', 'surge', 'merely', 'folk', 'tension', 'shock', 'bowl', 'suggestion', 'bankruptcy', 'crop', 'strongly', 'brick', 'distribution', 'terrorism', 'false', 'identity', 'primarily', 'alcohol', 'anybody', 'essential', 'airlines', 'mountain', 'category', 'advertisement', 'strain', 'yellow', 'embrace', 'wonderful', 'satellite', 'illustrate', 'slide', 'inform', 'carefully', 'stroke', 'spanish', 'clinic', 'sun', 'expose', 'hitter', 'asian', 'shoe', 'teammate', 'advise', 'barrier', 'setting', 'priority', 'beer', 'immigration', 'muscle', 'cigarette', 'unemployment', 'somebody', 'resolution', 'ager', 'text', 'inspector', 'funny', 'weigh', 'temperature', 'nationwide', 'register', 'atmosphere', 'historian', 'writing', 'motion', 'recession', 'sample', 'expression', 'abroad', 'tennis', 'bench', 'muslim', 'joke', 'intense', 'occasion', 'agenda', 'bet', 'suburban', 'partnership', 'circuit', 'survive', 'nomination', 'best', 'halt', 'anniversary', 'costume', 'chapter', 'eighth', 'deserve', 'cancel', 'equally', 'circumstance', 'extremely', 'consist', 'photographer', 'insure', 'vary', 'politically', 'publication', 'trader', 'phrase', 'independence', 'employment', 'apparent', 'eager', 'snow', 'necessarily', 'debut', 'peak', 'tower', 'burden', 'intention', 'occupy', 'billion', 'armed', 'performer', 'orchestra', 'suburb', 'absolutely', 'occasionally', 'birth', 'ballot', 'rescue', 'ceiling', 'stadium', 'angry', 'eastern', 'observe', 'illness', 'king', 'ordinary', 'veto', 'consequence', 'equity', 'salad', 'auto', 'confront', 'basement', 'seven', 'mixture', 'concentrate', 'residential', 'entrance', 'boss', 'uniform', 'statistic', 'alive', 'controversy', 'recovery', 'conventional', 'amid', 'christian', 'portray', 'layer', 'enemy', 'irish', 'sensitive', 'conviction', 'specialize', 'standing', 'chamber', 'rookie', 'surprising', 'profile', 'communist', 'fiction', 'transaction', 'enable', 'tall', 'tip', 'disabled', 'solo', 'tank', 'coat', 'runner', 'beauty', 'forest', 'soul', 'emotion', 'incentive', 'traveler', 'mood', 'flood', 'radical', 'bridegroom', 'vow', 'handful', 'making', 'donation', 'exceed', 'attach', 'diplomatic', 'amendment', 'obligation', 'mixed', 'contractor', 'departure', 'passion', 'wheel', 'non', 'steady', 'thick', 'taxpayer', 'sector', 'outcome', 'mainly', 'seventh', 'utility', 'takeover', 'sheet', 'fate', 'prohibit', 'proper', 'phase', 'widespread', 'convert', 'edit', 'satisfy', 'resignation', 'dining', 'photo', 'guerrilla', 'endorse', 'teenager', 'disappear', 'corruption', 'solid', 'echo', 'sky', 'concede', 'electric', 'electricity', 'attractive', 'clothing', 'stamp', 'skirt', 'assessment', 'closing', 'detailed', 'correction', 'landmark', 'deposit', 'consideration', 'barrel', 'wealthy', 'classical', 'exception', 'attribute', 'religion', 'fighter', 'excellent', 'effectively', 'administrative', 'initially', 'reasonable', 'replacement', 'rebuild', 'margin', 'mutual', 'invasion', 'badly', 'funeral', 'tactic', 'tooth', 'brothers', 'personnel', 'ton', 'milk', 'compensation', 'afraid', 'multiple', 'wake', 'mystery', 'explanation', 'regularly', 'smooth', 'revolution', 'soil', 'donate', 'normally', 'toy', 'highlight', 'existing', 'confident', 'actual', 'proud', 'overcome', 'pension', 'trick', 'teaching', 'plain', 'combat', 'municipal', 'boom', 'islamic', 'anyway', 'assign', 'residence', 'tune', 'grab', 'stream', 'promotion', 'shadow', 'duck', 'personality', 'scholar', 'monthly', 'jews', 'depression', 'impressive', 'perspective', 'tackle', 'strange', 'involvement', 'noise', 'classroom', 'sacrifice', 'opposite', 'considerable', 'friendly', 'pleasure', 'poverty', 'communications', 'breakfast', 'trace', 'resist', 'valuable', 'context', 'worldwide', 'recognition', 'exposure', 'fairly', 'quit', 'ear', 'beneath', 'tap', 'mouth', 'definition', 'deadline', 'shore', 'automobile', 'faculty', 'proceeding', 'load', 'extent', 'interior', 'recipient', 'resistance', 'borrow', 'mall', 'pour', 'frustration', 'toll', 'assembly', 'weekly', 'ranking', 'coast', 'remarkable', 'programming', 'guideline', 'premium', 'drain', 'tender', 'railroad', 'beef', 'painter', 'caution', 'anonymity', 'equivalent', 'jacket', 'potentially', 'extensive', 'leak', 'sick', 'cooking', 'ideal', 'inner', 'indication', 'possession', 'unfortunately', 'disk', 'exit', 'triple', 'charity', 'grass', 'smart', 'laboratory', 'pride', 'corn', 'loose', 'revive', 'preparation', 'cruise', 'sink', 'spin', 'appreciate', 'cooperation', 'enforce', 'fault', 'organizer', 'blend', 'designate', 'intellectual', 'frequent', 'restrict', 'translate', 'justify', 'await', 'flash', 'explosion', 'striking', 'harm', 'discipline', 'literature', 'clinical', 'terrible', 'extreme', 'lover', 'transition', 'ten', 'subsidy', 'patrol', 'ambitious', 'accomplish', 'toss', 'trim', 'react', 'nurse', 'rights', 'mandate', 'stable', 'bind', 'hip', 'brush', 'intent', 'ancient', 'rumor', 'ninth', 'negotiator', 'educate', 'hockey', 'definitely', 'indictment', 'bury', 'plains', 'skin', 'bargain', 'elaborate', 'dutch', 'overseas', 'concrete', 'behalf', 'surely', 'totally', 'nose', 'instruction', 'outstanding', 'neck', 'romantic', 'careful', 'resemble', 'maximum', 'costly', 'capable', 'finger', 'unclear', 'exhibit', 'fundamental', 'rhythm', 'launch', 'adjust', 'basically', 'proof', 'freeze', 'absence', 'basket', 'constant', 'rental', 'batter', 'strategic', 'raising', 'assemble', 'discovery', 'evil', 'segment', 'outline', 'strengthen', 'plea', 'dialogue', 'desk', 'routine', 'hint', 'achievement', 'cooperate', 'lean', 'description', 'enterprise', 'topic', 'anticipate', 'bone', 'privately', 'pollution', 'craft', 'filing', 'working', 'membership', 'specifically', 'reception', 'significantly', 'soccer', 'crazy', 'controversial', 'component', 'punishment', 'hat', 'climate', 'sudden', 'reluctant', 'practical', 'foul', 'shell', 'formula', 'rapidly', 'establishment', 'expire', 'troubled', 'confrontation', 'enthusiasm', 'installation', 'numerous', 'comparison', 'impression', 'shout', 'cease', 'disagree', 'reward', 'supermarket', 'spill', 'exclude', 'pump', 'gross', 'alter', 'speculation', 'scheme', 'calm', 'cycle', 'midnight', 'golden', 'bitter', 'vulnerable', 'compound', 'gesture', 'philosophy', 'eight', 'emphasis', 'bother', 'humor', 'ingredient', 'depict', 'regime', 'punch', 'substance', 'economics', 'courtroom', 'disappoint', 'drag', 'peer', 'fortune', 'forth', 'celebrity', 'engineering', 'surrender', 'pianist', 'wisdom', 'loud', 'advanced', 'ought', 'raid', 'pink', 'custody', 'visible', 'habit', 'childhood', 'spare', 'perceive', 'quietly', 'sum', 'relax', 'brokerage', 'warrant', 'nominee', 'mirror', 'chase', 'clash', 'tired', 'lecture', 'birthday', 'dump', 'overlook', 'closer', 'borough', 'shortage', 'enhance', 'poet', 'successor', 'captain', 'blast', 'journal', 'franchise', 'inspection', 'lend', 'evident', 'sustain', 'deck', 'substitute', 'strict', 'triumph', 'forever', 'popularity', 'eligible', 'dig', 'execute', 'gate', 'narrative', 'impress', 'undergo', 'affairs', 'silence', 'faster', 'liability', 'absorb', 'timing', 'provider', 'alarm', 'architecture', 'coordinator', 'ensemble', 'playing', 'helicopter', 'briefly', 'cheer', 'psychological', 'comic', 'anxiety', 'useful', 'perception', 'wooden', 'greet', 'province', 'slight', 'exciting', 'luxury', 'excuse', 'withdrawal', 'plunge', 'occasional', 'bonus', 'presumably', 'seal', 'literary', 'alert', 'luck', 'soar', 'edition', 'antique', 'cloud', 'existence', 'arise', 'wrap', 'sidewalk', 'excess', 'unique', 'attraction', 'freshman', 'consistently', 'underground', 'squeeze', 'outlet', 'condemn', 'consensus', 'fence', 'institute', 'raw', 'locker', 'fantasy', 'painful', 'comprehensive', 'snap', 'photography', 'cabinet', 'premiere', 'destruction', 'uncertainty', 'disclosure', 'meaning', 'wash', 'undermine', 'evaluate', 'nervous', 'assignment', 'pile', 'prise', 'rough', 'concession', 'weakness', 'advisory', 'update', 'sophisticated', 'consistent', 'decorate', 'turnover', 'lady', 'revise', 'adventure', 'rear', 'motivate', 'retreat', 'precisely', 'delight', 'coordinate', 'optimistic', 'honest', 'ultimate', 'uphold', 'surprisingly', 'scholarship', 'terror', 'owe', 'admire', 'regardless', 'reportedly', 'visual', 'predecessor', 'twist', 'fade', 'mask', 'assess', 'assertion', 'calculate', 'civic', 'ownership', 'vocal', 'button', 'arrival', 'leap', 'complicated', 'systems', 'discrimination', 'pet', 'origin', 'extension', 'dancing', 'ruin', 'consumption', 'convey', 'charm', 'proportion', 'greatly', 'actress', 'differ', 'influential', 'pause', 'lucky', 'headline', 'outdoor', 'curb', 'port', 'innocent', 'sad', 'weaken', 'explosive', 'thinking', 'inevitable', 'unknown', 'organized', 'businessman', 'enact', 'planned', 'personally', 'similarly', 'parade', 'legitimate', 'preliminary', 'fabric', 'spray', 'platform', 'hill', 'rapid', 'depth', 'remote', 'fighting', 'shrink', 'pregnant', 'tech', 'indict', 'bass', 'underscore', 'construct', 'decrease', 'reopen', 'unexpected', 'script', 'belt', 'burst', 'bow', 'lifetime', 'prevail', 'sentiment', 'introduction', 'wealth', 'elementary', 'locate', 'compose', 'ambition', 'mature', 'generous', 'bite', 'format', 'objection', 'rid', 'entitle', 'prayer', 'constitute', 'biography', 'dust', 'interpretation', 'accommodate', 'gradually', 'merit', 'spectacular', 'hostile', 'perfectly', 'provoke', 'custom', 'harsh', 'chest', 'drum', 'lineup', 'outsider', 'tremendous', 'specialty', 'implication', 'publicity', 'leather', 'bold', 'lure', 'diverse', 'grave', 'sweeping', 'endure', 'unfair', 'pend', 'constantly', 'renovation', 'steam', 'sideline', 'routinely', 'objective', 'vital', 'hook', 'wise', 'presentation', 'elegant', 'ambassador', 'postpone', 'imagination', 'obstacle', 'romance', 'pursuit', 'anymore', 'activist', 'permission', 'confusion', 'selling', 'scare', 'authorize', 'adjustment', 'aboard', 'neglect', 'mid', 'blind', 'parallel', 'ensure', 'temporarily', 'credibility', 'interpret', 'spiritual', 'overhaul', 'officially', 'collective', 'evoke', 'mere', 'mill', 'forecast', 'accelerate', 'tragedy', 'lighting', 'overwhelming', 'incorporate', 'listener', 'gathering', 'continued', 'height', 'evolve', 'airplane', 'dedicate', 'trash', 'empire', 'participation', 'backup', 'advocacy', 'bullet', 'crush', 'regret', 'traditionally', 'bare', 'journey', 'relieve', 'flaw', 'overnight', 'killer', 'sufficient', 'properly', 'analyze', 'accent', 'render', 'phenomenon', 'delicate', 'accurate', 'successfully', 'array', 'iron', 'diversity', 'handed', 'variation', 'desert', 'adapt', 'bail', 'skeptical', 'instant', 'uncertain', 'tire', 'characterize', 'pure', 'scream', 'america', 'stare', 'largest', 'merge', 'subtle', 'looking', 'denounce', 'brilliant', 'dot', 'spell', 'sympathy', 'signature', 'bounce', 'integrity', 'cousin', 'companion', 'shed', 'stall', 'skip', 'roster', 'defender', 'gear', 'lately', 'legacy', 'wander', 'regulate', 'misstate', 'efficient', 'hunt', 'dominant', 'cutting', 'formally', 'chart', 'silent', 'manufacture', 'colorful', 'dip', 'closed', 'span', 'suspicion', 'superior', 'discourage', 'upgrade', 'pioneer', 'compelling', 'legally', 'spark', 'punish', 'annually', 'bunch', 'hell', 'bulk', 'prospective', 'carve', 'contrary', 'observation', 'consult', 'fashioned', 'bolster', 'sorry', 'distant', 'intensity', 'mainstream', 'steep', 'desperate', 'shelf', 'made', 'frustrate', 'consulting', 'tribute', 'trap', 'assurance', 'fatal', 'invent', 'disappointment', 'slump', 'oriented', 'profitable', 'running', 'pit', 'scrutiny', 'means', 'momentum', 'communicate', 'fierce', 'affiliate', 'depart', 'innovative', 'higher', 'minded', 'float', 'counterpart', 'grip', 'books', 'thoroughly', 'examination', 'transport', 'lesser', 'stun', 'angle', 'devise', 'notably', 'conscious', 'joy', 'grace', 'nine', 'distinction', 'profound', 'alike', 'invitation', 'comfort', 'sole', 'outrage', 'intimate', 'literally', 'lively', 'chorus', 'tendency', 'talented', 'wipe', 'gentle', 'physically', 'endless', 'unhappy', 'subsequent', 'disagreement', 'massive', 'stiff', 'equip', 'boast', 'shy', 'stability', 'preside', 'exploit', 'deem', 'concerned', 'observer', 'mild', 'acceptable', 'possess', 'explode', 'peaceful', 'pronounce', 'naturally', 'gov', 'adequate', 'loom', 'stranger', 'preferred', 'diminish', 'precise', 'willingness', 'determination', 'reminder', 'scramble', 'lovely', 'handsome', 'economically', 'severely', 'unusually', 'fulfill', 'aggressively', 'haunt', 'linger', 'imply', 'reinforce', 'obscure', 'farther', 'memorable', 'latter', 'openly', 'dictate', 'cautious', 'speculate', 'thrill', 'spur', 'vivid', 'exact', 'helpful', 'distinguish', 'glad', 'harder', 'lucrative')\n"
     ]
    }
   ],
   "source": [
    "print(vocab)"
   ]
  },
  {
   "cell_type": "code",
   "execution_count": 14,
   "metadata": {
    "collapsed": true
   },
   "outputs": [],
   "source": [
    "df_fcc = pd.read_csv(\"./comcast_fcc_complaints_2015.csv\")"
   ]
  },
  {
   "cell_type": "code",
   "execution_count": 133,
   "metadata": {
    "collapsed": true
   },
   "outputs": [],
   "source": [
    "stop_words = ['the','a','an','and','but','if','or','because','as','what','which','this','that','these','those','then',\n",
    "              'just','so','than','such','both','through','about','for','is','of','while','during','to','What','Which',\n",
    "              'Is','If','While','This','i','you','have','been','they','my','are','on','into','comcast','time','customer','even','now','company',\n",
    "            'day','someone','thing','also','got','way','call','called','one','said','tell','service',\n",
    "             'told']\n",
    "def text_to_wordlist(text, remove_stop_words=False, stem_words=False):\n",
    "    # Clean the text, with the option to remove stop_words and to stem words.\n",
    "\n",
    "    # Clean the text\n",
    "    text = re.sub(r\"[^A-Za-z0-9]\", \" \", text)\n",
    "    text = re.sub(r\"what's\", \" what is \", text)\n",
    "    text = re.sub(r\"What's\", \" what is \", text)\n",
    "    text = re.sub(r\"\\'s\", \" \", text)\n",
    "    text = re.sub(r\"\\'ve\", \" have \", text)\n",
    "    text = re.sub(r\"can't\", \"cannot \", text)\n",
    "    text = re.sub(r\"n't\", \" not \", text)\n",
    "    text = re.sub(r\"I'm\", \"I am\", text)\n",
    "    text = re.sub(r\" m \", \" am \", text)\n",
    "    text = re.sub(r\"\\'re\", \" are \", text)\n",
    "    text = re.sub(r\"\\'d\", \" would \", text)\n",
    "    text = re.sub(r\"\\'ll\", \" will \", text)\n",
    "    text = re.sub(r\"60k\", \" 60000 \", text)\n",
    "    text = re.sub(r\" e g \", \" eg \", text)\n",
    "    text = re.sub(r\" b g \", \" bg \", text)\n",
    "    text = re.sub(r\"\\0s\", \"0\", text)\n",
    "    text = re.sub(r\" 9 11 \", \"911\", text)\n",
    "    text = re.sub(r\"e-mail\", \"email\", text)\n",
    "    text = re.sub(r\"\\s{2,}\", \" \", text)\n",
    "    text = re.sub(r\"quikly\", \"quickly\", text)\n",
    "    text = re.sub(r\" usa \", \" America \", text)\n",
    "    text = re.sub(r\" USA \", \" America \", text)\n",
    "    text = re.sub(r\" u s \", \" America \", text)\n",
    "    text = re.sub(r\" uk \", \" England \", text)\n",
    "    text = re.sub(r\" UK \", \" England \", text)\n",
    "    text = re.sub(r\"india\", \"India\", text)\n",
    "    text = re.sub(r\"switzerland\", \"Switzerland\", text)\n",
    "    text = re.sub(r\"china\", \"China\", text)\n",
    "    text = re.sub(r\"chinese\", \"Chinese\", text) \n",
    "    text = re.sub(r\"imrovement\", \"improvement\", text)\n",
    "    text = re.sub(r\"intially\", \"initially\", text)\n",
    "    text = re.sub(r\"quora\", \"Quora\", text)\n",
    "    text = re.sub(r\" dms \", \"direct messages \", text)  \n",
    "    text = re.sub(r\"demonitization\", \"demonetization\", text) \n",
    "    text = re.sub(r\"actived\", \"active\", text)\n",
    "    text = re.sub(r\"kms\", \" kilometers \", text)\n",
    "    text = re.sub(r\"KMs\", \" kilometers \", text)\n",
    "    text = re.sub(r\" cs \", \" computer science \", text) \n",
    "    text = re.sub(r\" upvotes \", \" up votes \", text)\n",
    "    text = re.sub(r\" iPhone \", \" phone \", text)\n",
    "    text = re.sub(r\"\\0rs \", \" rs \", text) \n",
    "    text = re.sub(r\"calender\", \"calendar\", text)\n",
    "    text = re.sub(r\"ios\", \"operating system\", text)\n",
    "    text = re.sub(r\"gps\", \"GPS\", text)\n",
    "    text = re.sub(r\"gst\", \"GST\", text)\n",
    "    text = re.sub(r\"programing\", \"programming\", text)\n",
    "    text = re.sub(r\"bestfriend\", \"best friend\", text)\n",
    "    text = re.sub(r\"dna\", \"DNA\", text)\n",
    "    text = re.sub(r\"III\", \"3\", text) \n",
    "    text = re.sub(r\"the US\", \"America\", text)\n",
    "    text = re.sub(r\"Astrology\", \"astrology\", text)\n",
    "    text = re.sub(r\"Method\", \"method\", text)\n",
    "    text = re.sub(r\"Find\", \"find\", text) \n",
    "    text = re.sub(r\"banglore\", \"Banglore\", text)\n",
    "    text = re.sub(r\"speeds\", \"speed\", text)\n",
    "    text = re.sub(r\"months\", \"month\", text)\n",
    "    text = re.sub(r\"caps\", \"cap\", text)\n",
    "    #text = re.sub(r\"comcast\", \" singtel \", text)\n",
    "    \n",
    "    # Remove punctuation from text\n",
    "    #text = ''.join([c for c in text if c not in punctuation])\n",
    "    \n",
    "    # Optionally, remove stop words\n",
    "    if remove_stop_words:\n",
    "        text = text.split()\n",
    "        text = [w for w in text if not w in stop_words]\n",
    "        text = \" \".join(text)\n",
    "    \n",
    "    # Optionally, shorten words to their stems\n",
    "    if stem_words:\n",
    "        text = text.split()\n",
    "        stemmer = SnowballStemmer('english')\n",
    "        stemmed_words = [stemmer.stem(word) for word in text]\n",
    "        text = \" \".join(stemmed_words)\n",
    "    \n",
    "    # Return a list of words\n",
    "    return(text)"
   ]
  },
  {
   "cell_type": "code",
   "execution_count": 134,
   "metadata": {},
   "outputs": [
    {
     "name": "stdout",
     "output_type": "stream",
     "text": [
      "['contacting internet technical support last # #  month resolve slow internet speed issues with no permanent resolution sent techs residence replaced hardware pay additional monthly fee services not received them when speak management very arrogant rude their tone demeaning unapologetic resolution problem never reached most get hung up experience long hold times complaint paying services am not receiving pay high speed internet boost internet speed reliable acceptable technical support do not receive any above feel like duped paying services without actually receiving them can accurately say last # #  month paid # #  month high speed internet not received anything remotely close high speed internet every contacted made it extremely clear am not receiving services am paying continues bill me services am not receiving \\n', 'back in january # # # #  made #  payments januarys februarys advance payment in march go web page make payment see account shows past due find out where payment went since it was deducted from bank account offered them send copy bank statement did not seem care give me confirmation number investigation promise me back not only did not me back turned off again gave me another confirmation number same investigation promised restore investigation completed still off had me bank start another investigation does not seem care at all committing fraud with their customers money \\n', 'our home located at in acworth georgia # # # # #  we signed year contract with xfinity high speed internet starting july # # # #  account number base rate # #  # #  billed monthly am sending compliant behalf partnerhusband mr whos name contact agreement was high speed internet only at speed # # mbps average internet speed half promised agreement at our location past month has become much slower in ranges #  # # mbps we placed # # # # # # # # #  was given #  appointment times after repeated calls each appointment was missed no showed up investigate problem phone with each csr rep would review inbound line remotely clear line has done several times prior date over past year our will go out drop several hours at especially sunday evenings contacted csr again around # pm est # # # # # # # #  complain lack get confirmed appointment finally after being phone # #  minutes csr was very helpful he cleared line speed came up around # # mbps not full speed contract has promised tech come out thursday # # # # # # # #  replaced couplers inside outside were not properly installed technician stated hardware in outside boxes needed repair updated outside units provide our home outdated never was updated he stated reason we only getting less half speed in our home he placed request come out friday # # # # # # # #  no has showed up no has followed up with us regarding issue today # # # # # # # #  our internet speed only at # # mbps download # #  # # mbps upload attached screen print speed test via their website am asking every line box be updated repaired in our neighborhood since xfinity has failed provide contracted almost # #  month we asking full refund our agreement demand #  full year at no cost lack must stop we will seek additional legal advice resources \\n', 'in atlanta area has put effect unprecendented usage cap # # # gb exceed cap charged extra # #  per # # gb stream from online services in standard hd can hit cap extremely easily has never capped usage before year before new net neutrality rules went effect feel their practices unfair there no competition in atlanta market can treat their customers however choose its not right \\n', 'some sort # #  years never had issues like am having past #  years past #  years had issue with internet with them every seem get run around their no apparently has no contact their techs come out site any problem at hand connection goes up down constantly over over again has nearly #  years at least past year it has gotten worse odd prior few month ago when it went down was between hours # #  am #  pm eastern monday thru friday weekends it seemed be fine no issues work from home great deal need connection up running monday thru friday being tech support person myself need up running at all times every it seems be same story over over again power cycle your modem course has already done go swap out modem believe at least #  times past year do same issues send tech out get its splitters provided re do them not course connection works few days weeks issues start up once again however connection drops totally has down #  days sunday evening when it first went down was informed would be out within whatever means had clarify within # #  hours was given ticket number usually dont get was at # # # #  pm next would get from technician coming out their department person specifically stated # # # #  pm would get did no didnt waited another # #  minutes referenced ticket number was it was closed course made me furious tech opened new ticket again was would be out within informed them wasnt good enough was given #  #  pm same would be out course did not happen either again around #  pm story once again requested speak supervisor was informed no was available after being hung up several times waiting supervisor was finally were all in meeting will me back course never happened either knowing needed connection back up set me appointment up following thursday informed them wouldnt work gave me #  am #  pm would be out once again will waste whole waiting strong feeling will not show it # # #  pm still not received back wife moving in month going with their competition in area competition were able come current area informed me would be pleased come out afternoon install everything unfortunately no longer adding more dsl customers in area their other option still rolling out with new infrastructure at \\n', 'whom it may concern am in metro atlanta area area test area overage charges using too much data with past month was informed had reached arbitrary limit data usage # # #  gb per month me could use more data it would cost # #  # #  per # #  gb data believe unjust we using our internet connection streaming tv shows movies we do not subscribe cable in essence punishing us not having pay tv subscription with them there was no limit before trying slowly impose we sadly first pawns in chess set be taken down by comcasts arbitrary data limits per gb fees \\n', 'good morning has throttling internet speed years understand offer up # #  gigabits there times where #  device connected modem would speedtest ookla has fast tracked # # # #  gigabits per second when issue taken away bad internet good bye hung up me has happened me multiple times wwe ppvs wwe network it was unwatchable missed special events believe would rather me purchase it them more recently having issues when online gaming router tracks modem speed it seems drop # # #  megabits per second peek hours after dinner before bed whenever hear radio ad where brag their speed being # #  times faster dialup laugh feel like im being punished having # star approved modem not renting their modems switching business class maybe its we cut cable television speaking throttling suppose best part can never get full quality netflix sounds bad with unreasonable data cap # # #  gigabytes received full speed would # #  # # # # #  repeating course hours month use it family reliant internet after work sometimes stream games with buddy wife watches netflix in her free son loves youtube minecraft videos has his friends over watch videos we full speed netflix wed be in trouble were buy new aaa pc game steam would use # # th data cap download something paid # #  dollar in short test market implemented data cap cash grab would expect were be implemented cost going from unlimited # # #  megabytes would be lowered there was no price drop \\n', 'when moved michigan contacted regarding internet was several times internet package was interested in would be perfect gaming needs specifically asked port forwarding hosting small gaming servers laptop assured me was possible with their at location never able do contact services #  times each instance seeking help lasted several days before was worn down by them gave up each instance spanned dozens phone calls hours web chat port forwarding consists allowing outside computers access your computer directly absolutely vital with play with friends hosting servers does not involve actual specialized server computer instead small instance specialized program published by games developer very common practice vital playing many games never had problem running programs until moved location tried everything new routers different computers etc contacted seeking help many times each run their script after at least hour escalate me more proficient tech support at level me need new equipment it should be working more frequently would only upgrade would be able successfully port forward friends connect computer over over spent hours with them only be more money each month was promised from getgo would be available believe was lied when was assured could port forward from location had truth would not signed contract with them \\n', 'xfinity cable was interrupted may # #  at # # #  pm pt over # #  minutes hold times was over # #  minutes again today cable interrupted at # # #  pm pt customers hold times by comcasts stated automated estimate over #  hour # #  minutes comcasts stated estimate not expected be restored until # # # #  pm pt # # #  minutes later full extent evening free additionally internet degraded well by comcasts own report do not pay when it convenient them deliver when want it need use it primarily in evening unacceptable assuming ever get speak representative am currently still hold will be asking partial refund failure deliver contracted services \\n', 'all sudden our bundle discount dropped # #  making our bill # #  more we never were notified change we do not any type promotion would run out we trying days understand our bill their phone line always says busy again there no email any other contact them ask our bill \\n']\n",
      "['cable internet speed', 'payment disappear disconnected', 'speed', 'imposed new usage cap 300gb punishes streaming', 'not working no boot', 'isp charging arbitrary data limits with overage fees', 'throttling unreasonable data cap', 'refuses help troubleshoot correct', 'extended outages', 'raising prices not being available ask why']\n"
     ]
    }
   ],
   "source": [
    "import re\n",
    "from string import punctuation\n",
    "from nltk.corpus import stopwords\n",
    "from nltk.stem import SnowballStemmer\n",
    "xtrain =[]\n",
    "ytrain =[]\n",
    "ytrainDecIn =[]\n",
    "ytrainDecOut =[]\n",
    "for caseID in range(df_fcc.shape[0]):\n",
    "    out = df_fcc['Description'][caseID].split('Follow-up message by FCC')\n",
    "    inputString = re.sub(r\"[^A-Za-z0-9.$ ]\",'', out[0]).lower() \n",
    "    inputString = re.sub(' +',' ',inputString)\n",
    "    inputString = text_to_wordlist(inputString,remove_stop_words=True)\n",
    "    inputString = re.sub(r\"[0-9]\",'# ', inputString)+ ' \\n'\n",
    "    xtrain += [inputString]\n",
    "    outputString = re.sub(r\"[^A-Za-z0-9.$ ]\",'', df_fcc['Customer Complaint'][caseID]).lower()\n",
    "    outputString = text_to_wordlist(outputString,remove_stop_words=True)\n",
    "    ytrain += [outputString]\n",
    "\n",
    "print(xtrain[:10])\n",
    "print(ytrain[:10])"
   ]
  },
  {
   "cell_type": "code",
   "execution_count": 135,
   "metadata": {
    "collapsed": true
   },
   "outputs": [],
   "source": [
    "from sklearn.feature_extraction.text import TfidfVectorizer, CountVectorizer"
   ]
  },
  {
   "cell_type": "code",
   "execution_count": 186,
   "metadata": {},
   "outputs": [],
   "source": [
    "tf_vectorizer = CountVectorizer(max_df=0.95, min_df=0.05,\n",
    "                                max_features=800,\n",
    "                                stop_words='english')\n",
    "tf = tf_vectorizer.fit_transform(xtrain+ytrain)"
   ]
  },
  {
   "cell_type": "code",
   "execution_count": 187,
   "metadata": {},
   "outputs": [
    {
     "data": {
      "text/plain": [
       "(4450, 71)"
      ]
     },
     "execution_count": 187,
     "metadata": {},
     "output_type": "execute_result"
    }
   ],
   "source": [
    "tf.shape"
   ]
  },
  {
   "cell_type": "code",
   "execution_count": 188,
   "metadata": {},
   "outputs": [
    {
     "data": {
      "text/plain": [
       "<4450x71 sparse matrix of type '<class 'numpy.int64'>'\n",
       "\twith 27020 stored elements in Compressed Sparse Row format>"
      ]
     },
     "execution_count": 188,
     "metadata": {},
     "output_type": "execute_result"
    }
   ],
   "source": [
    "tf"
   ]
  },
  {
   "cell_type": "code",
   "execution_count": 189,
   "metadata": {},
   "outputs": [
    {
     "name": "stdout",
     "output_type": "stream",
     "text": [
      "  (0, 38)\t1\n",
      "  (0, 53)\t1\n",
      "  (0, 49)\t3\n",
      "  (0, 13)\t1\n",
      "  (0, 61)\t1\n",
      "  (0, 52)\t1\n",
      "  (0, 54)\t2\n",
      "  (0, 57)\t5\n",
      "  (0, 25)\t1\n",
      "  (0, 44)\t1\n",
      "  (0, 48)\t2\n",
      "  (0, 56)\t1\n",
      "  (0, 35)\t1\n",
      "  (0, 58)\t5\n",
      "  (0, 43)\t3\n",
      "  (0, 33)\t6\n"
     ]
    }
   ],
   "source": [
    "print(tf[0])"
   ]
  },
  {
   "cell_type": "code",
   "execution_count": 190,
   "metadata": {
    "scrolled": true
   },
   "outputs": [
    {
     "name": "stderr",
     "output_type": "stream",
     "text": [
      "INFO:guidedlda:n_documents: 4450\n",
      "INFO:guidedlda:vocab_size: 71\n",
      "INFO:guidedlda:n_words: 44386\n",
      "INFO:guidedlda:n_topics: 4\n",
      "INFO:guidedlda:n_iter: 200\n",
      "WARNING:guidedlda:all zero row in document-term matrix found\n",
      "INFO:guidedlda:<0> log likelihood: -274536\n",
      "INFO:guidedlda:<20> log likelihood: -190241\n",
      "INFO:guidedlda:<40> log likelihood: -186495\n",
      "INFO:guidedlda:<60> log likelihood: -185276\n",
      "INFO:guidedlda:<80> log likelihood: -184049\n",
      "INFO:guidedlda:<100> log likelihood: -183431\n",
      "INFO:guidedlda:<120> log likelihood: -183506\n",
      "INFO:guidedlda:<140> log likelihood: -183173\n",
      "INFO:guidedlda:<160> log likelihood: -182884\n",
      "INFO:guidedlda:<180> log likelihood: -183063\n",
      "INFO:guidedlda:<199> log likelihood: -182810\n"
     ]
    },
    {
     "data": {
      "text/plain": [
       "<guidedlda.guidedlda.GuidedLDA at 0x22ccff8bc18>"
      ]
     },
     "execution_count": 190,
     "metadata": {},
     "output_type": "execute_result"
    }
   ],
   "source": [
    "model = guidedlda.GuidedLDA(n_topics=4, n_iter=200, random_state=7, refresh=20)\n",
    "model.fit(tf)"
   ]
  },
  {
   "cell_type": "code",
   "execution_count": 191,
   "metadata": {},
   "outputs": [
    {
     "data": {
      "text/plain": [
       "dict_keys(['internet', 'month', 'speed', 'issues', 'sent', 'pay', 'monthly', 'fee', 'services', 'received', 'problem', 'times', 'complaint', 'paying', 'receive', 'like', 'make', 'account', 'went', 'did', 'number', 'customers', 'money', 'home', 'year', 'xfinity', 'mbps', 'calls', 'phone', 'hours', 'come', 'technician', 'getting', 'issue', 'today', 'area', 'cap', 'charged', 'new', 'years', 'having', 'connection', 'work', 'need', 'modem', 'days', 'dont', 'didnt', 'supervisor', 'going', 'able', 'charges', 'data', 'use', 'tv', 'cable', 'im', 'business', 'price', 'asked', 'help', 'equipment', 'want', 'representative', 'email', 'billing', 'credit', 'ive', 'charge', 'know', 'fcc'])"
      ]
     },
     "execution_count": 191,
     "metadata": {},
     "output_type": "execute_result"
    }
   ],
   "source": [
    "vocab = tf_vectorizer.vocabulary_\n",
    "vocab.keys()"
   ]
  },
  {
   "cell_type": "code",
   "execution_count": 192,
   "metadata": {},
   "outputs": [
    {
     "name": "stdout",
     "output_type": "stream",
     "text": [
      "dict_items([('internet', 33), ('month', 43), ('speed', 58), ('issues', 35), ('sent', 56), ('pay', 48), ('monthly', 44), ('fee', 25), ('services', 57), ('received', 54), ('problem', 52), ('times', 61), ('complaint', 13), ('paying', 49), ('receive', 53), ('like', 38), ('make', 39), ('account', 1), ('went', 66), ('did', 19), ('number', 47), ('customers', 16), ('money', 42), ('home', 30), ('year', 69), ('xfinity', 68), ('mbps', 40), ('calls', 7), ('phone', 50), ('hours', 31), ('come', 12), ('technician', 60), ('getting', 26), ('issue', 34), ('today', 62), ('area', 2), ('cap', 8), ('charged', 10), ('new', 46), ('years', 70), ('having', 28), ('connection', 14), ('work', 67), ('need', 45), ('modem', 41), ('days', 18), ('dont', 21), ('didnt', 20), ('supervisor', 59), ('going', 27), ('able', 0), ('charges', 11), ('data', 17), ('use', 64), ('tv', 63), ('cable', 6), ('im', 32), ('business', 5), ('price', 51), ('asked', 3), ('help', 29), ('equipment', 23), ('want', 65), ('representative', 55), ('email', 22), ('billing', 4), ('credit', 15), ('ive', 36), ('charge', 9), ('know', 37), ('fcc', 24)])\n"
     ]
    }
   ],
   "source": [
    "keysA = vocab.keys()\n",
    "contentsA = vocab.items()\n",
    "print(contentsA)"
   ]
  },
  {
   "cell_type": "code",
   "execution_count": 195,
   "metadata": {},
   "outputs": [
    {
     "name": "stdout",
     "output_type": "stream",
     "text": [
      "(4, 71)\n",
      "['internet', 'phone', 'account', 'month', 'did', 'issue', 'credit', 'services']\n"
     ]
    }
   ],
   "source": [
    "n_top_words = 8\n",
    "inv_map = { v:k for k,v in contentsA }\n",
    "topic_word = model.topic_word_\n",
    "print(topic_word.shape)\n",
    "topWords = np.argsort(topic_word[1])[:-(n_top_words+1):-1]\n",
    "topWordsRead =[]\n",
    "for i in topWords:\n",
    "    topWordsRead +=[inv_map[i]]\n",
    "print(topWordsRead)"
   ]
  },
  {
   "cell_type": "code",
   "execution_count": 185,
   "metadata": {},
   "outputs": [],
   "source": [
    "seed_topic_list = [['internet'],['data','cap']]\n",
    "seed_topics = {}\n",
    "for t_id, st in enumerate(seed_topic_list):\n",
    "    for word in st:\n",
    "        seed_topics[vocab[word]] = t_id"
   ]
  },
  {
   "cell_type": "code",
   "execution_count": 159,
   "metadata": {},
   "outputs": [
    {
     "name": "stderr",
     "output_type": "stream",
     "text": [
      "INFO:guidedlda:n_documents: 8447\n",
      "INFO:guidedlda:vocab_size: 3012\n",
      "INFO:guidedlda:n_words: 1221626\n",
      "INFO:guidedlda:n_topics: 20\n",
      "INFO:guidedlda:n_iter: 200\n",
      "WARNING:guidedlda:all zero column in document-term matrix found\n",
      "INFO:guidedlda:<0> log likelihood: -13925455\n",
      "INFO:guidedlda:<20> log likelihood: -10375790\n",
      "INFO:guidedlda:<40> log likelihood: -10124256\n",
      "INFO:guidedlda:<60> log likelihood: -10007727\n",
      "INFO:guidedlda:<80> log likelihood: -9943488\n",
      "INFO:guidedlda:<100> log likelihood: -9894737\n",
      "INFO:guidedlda:<120> log likelihood: -9865589\n",
      "INFO:guidedlda:<140> log likelihood: -9842188\n",
      "INFO:guidedlda:<160> log likelihood: -9825484\n",
      "INFO:guidedlda:<180> log likelihood: -9811863\n",
      "INFO:guidedlda:<199> log likelihood: -9801855\n"
     ]
    },
    {
     "data": {
      "text/plain": [
       "<guidedlda.guidedlda.GuidedLDA at 0x22ccff96940>"
      ]
     },
     "execution_count": 159,
     "metadata": {},
     "output_type": "execute_result"
    }
   ],
   "source": [
    "model.fit(X, seed_topics=seed_topics, seed_confidence=0.15)"
   ]
  },
  {
   "cell_type": "code",
   "execution_count": 163,
   "metadata": {},
   "outputs": [
    {
     "name": "stdout",
     "output_type": "stream",
     "text": [
      "(20, 3012)\n",
      "['allowed', 'caused', 'automated', 'access']\n"
     ]
    }
   ],
   "source": [
    "n_top_words = 4\n",
    "inv_map = { v:k for k,v in contentsA }\n",
    "topic_word = model.topic_word_\n",
    "print(topic_word.shape)\n",
    "topWords = np.argsort(topic_word[2])[:-(n_top_words+1):-1]\n",
    "topWordsRead =[]\n",
    "for i in topWords:\n",
    "    topWordsRead +=[inv_map[i]]\n",
    "print(topWordsRead)"
   ]
  },
  {
   "cell_type": "code",
   "execution_count": null,
   "metadata": {
    "collapsed": true
   },
   "outputs": [],
   "source": [
    "doc_topic = model.transform(tf)"
   ]
  },
  {
   "cell_type": "code",
   "execution_count": 180,
   "metadata": {},
   "outputs": [
    {
     "name": "stdout",
     "output_type": "stream",
     "text": [
      "[  2.97186009e-04   3.51080499e-01   1.32922981e-04   5.01706599e-03\n",
      "   1.67299637e-01   4.04534119e-02   5.38621704e-04   3.50448753e-04\n",
      "   1.32627335e-04   1.37803499e-04   2.07164770e-04   7.00825059e-02\n",
      "   6.74816110e-03   2.78913689e-04   6.56925122e-02   2.58698119e-01\n",
      "   2.45038487e-04   3.20382461e-04   1.17462395e-03   3.11123546e-02]\n"
     ]
    }
   ],
   "source": [
    "print(doc_topic[0])"
   ]
  },
  {
   "cell_type": "code",
   "execution_count": 177,
   "metadata": {},
   "outputs": [
    {
     "ename": "AttributeError",
     "evalue": "argsort not found",
     "output_type": "error",
     "traceback": [
      "\u001b[1;31m---------------------------------------------------------------------------\u001b[0m",
      "\u001b[1;31mAttributeError\u001b[0m                            Traceback (most recent call last)",
      "\u001b[1;32m<ipython-input-177-c8571f070aa1>\u001b[0m in \u001b[0;36m<module>\u001b[1;34m()\u001b[0m\n\u001b[0;32m      1\u001b[0m \u001b[1;32mfor\u001b[0m \u001b[0mi\u001b[0m \u001b[1;32min\u001b[0m \u001b[0mrange\u001b[0m\u001b[1;33m(\u001b[0m\u001b[1;36m9\u001b[0m\u001b[1;33m)\u001b[0m\u001b[1;33m:\u001b[0m\u001b[1;33m\u001b[0m\u001b[0m\n\u001b[0;32m      2\u001b[0m     print(\"top topic: {} Document: {}\".format(doc_topic[i].argmax(),\n\u001b[1;32m----> 3\u001b[1;33m                                                   ', '.join(np.array(inv_map)[list(reversed(tf[i,:].argsort()))[0:5]])))\n\u001b[0m",
      "\u001b[1;32m~\\AppData\\Local\\conda\\conda\\envs\\tfkrnv\\lib\\site-packages\\scipy\\sparse\\base.py\u001b[0m in \u001b[0;36m__getattr__\u001b[1;34m(self, attr)\u001b[0m\n\u001b[0;32m    574\u001b[0m             \u001b[1;32mreturn\u001b[0m \u001b[0mself\u001b[0m\u001b[1;33m.\u001b[0m\u001b[0mgetnnz\u001b[0m\u001b[1;33m(\u001b[0m\u001b[1;33m)\u001b[0m\u001b[1;33m\u001b[0m\u001b[0m\n\u001b[0;32m    575\u001b[0m         \u001b[1;32melse\u001b[0m\u001b[1;33m:\u001b[0m\u001b[1;33m\u001b[0m\u001b[0m\n\u001b[1;32m--> 576\u001b[1;33m             \u001b[1;32mraise\u001b[0m \u001b[0mAttributeError\u001b[0m\u001b[1;33m(\u001b[0m\u001b[0mattr\u001b[0m \u001b[1;33m+\u001b[0m \u001b[1;34m\" not found\"\u001b[0m\u001b[1;33m)\u001b[0m\u001b[1;33m\u001b[0m\u001b[0m\n\u001b[0m\u001b[0;32m    577\u001b[0m \u001b[1;33m\u001b[0m\u001b[0m\n\u001b[0;32m    578\u001b[0m     \u001b[1;32mdef\u001b[0m \u001b[0mtranspose\u001b[0m\u001b[1;33m(\u001b[0m\u001b[0mself\u001b[0m\u001b[1;33m,\u001b[0m \u001b[0maxes\u001b[0m\u001b[1;33m=\u001b[0m\u001b[1;32mNone\u001b[0m\u001b[1;33m,\u001b[0m \u001b[0mcopy\u001b[0m\u001b[1;33m=\u001b[0m\u001b[1;32mFalse\u001b[0m\u001b[1;33m)\u001b[0m\u001b[1;33m:\u001b[0m\u001b[1;33m\u001b[0m\u001b[0m\n",
      "\u001b[1;31mAttributeError\u001b[0m: argsort not found"
     ]
    }
   ],
   "source": [
    "for i in range(9):\n",
    "    print(\"top topic: {} Document: {}\".format(doc_topic[i].argmax(),\n",
    "                                                  ', '.join(np.array(inv_map)[list(reversed(tf[i,:].argsort()))[0:5]])))"
   ]
  },
  {
   "cell_type": "code",
   "execution_count": null,
   "metadata": {
    "collapsed": true
   },
   "outputs": [],
   "source": []
  },
  {
   "cell_type": "code",
   "execution_count": null,
   "metadata": {
    "collapsed": true
   },
   "outputs": [],
   "source": []
  }
 ],
 "metadata": {
  "kernelspec": {
   "display_name": "Python 3",
   "language": "python",
   "name": "python3"
  },
  "language_info": {
   "codemirror_mode": {
    "name": "ipython",
    "version": 3
   },
   "file_extension": ".py",
   "mimetype": "text/x-python",
   "name": "python",
   "nbconvert_exporter": "python",
   "pygments_lexer": "ipython3",
   "version": "3.6.1"
  }
 },
 "nbformat": 4,
 "nbformat_minor": 2
}
